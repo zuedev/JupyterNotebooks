{
 "cells": [
  {
   "cell_type": "markdown",
   "id": "edeee2d6-c68c-46b3-a5e8-e3e51e61ef99",
   "metadata": {},
   "source": [
    "# Irrational Number Exponentiation Method\n",
    "\n",
    "This method is based on the idea that performing arithmetic operations on irrational numbers like $pi$ or $e$ can \"shuffle\" their digits in a complex way. The fractional part of the result appears random.\n",
    "\n",
    "We take a base irrational number (like $pi$). We add an integer counter (our \"seed\") to it and raise the result to a large, non-integer power. The fractional part of this result is taken as the random number. By simply incrementing the integer counter for each call, we get a different result each time.\n",
    "\n",
    "This method can be described by a sequence based on a counter. Let $C_n$ be the counter at step $n$, $R_n$ be the random number, and $b$, $p$ be constants (e.g., $b=e$ and $p=10 pi$):\n",
    "\n",
    "$$V_n = (b + C_n)^p$$\n",
    "$$R_n = V_n - \\lfloor V_n \\rfloor$$\n",
    "$$C_{n+1} = C_n + 1$$"
   ]
  },
  {
   "cell_type": "code",
   "execution_count": 2,
   "id": "dc575000-8d32-45f5-8ce8-056719f069d0",
   "metadata": {},
   "outputs": [
    {
     "name": "stdout",
     "output_type": "stream",
     "text": [
      "\n",
      "--- Method 3: Irrational Number Exponentiation ---\n",
      "Generating 5 random numbers (sequence is always the same for a starting seed):\n",
      "0.9131916800254842\n",
      "0.8442017414740235\n",
      "0.34254652760213844\n",
      "0.10773025009092407\n",
      "0.08473117661901597\n",
      "\n",
      "Generating a number with a different starting seed:\n",
      "0.6055736541748047\n"
     ]
    }
   ],
   "source": [
    "import math\n",
    "\n",
    "class IrrationalPower:\n",
    "    \"\"\"\n",
    "    Generates pseudo-random numbers by taking the fractional part of\n",
    "    an irrational number raised to a power.\n",
    "    \"\"\"\n",
    "    def __init__(self, seed=1):\n",
    "        self.counter = seed\n",
    "        # Use two well-known irrational numbers for the operation\n",
    "        self.base = math.e\n",
    "        # Using a large exponent like (pi * 10) creates numbers so large\n",
    "        # that standard floats lose all fractional precision.\n",
    "        # A smaller irrational exponent will work.\n",
    "        self.power = math.pi \n",
    "\n",
    "    def random(self):\n",
    "        \"\"\"Generates a pseudo-random float between 0.0 and 1.0\"\"\"\n",
    "        # Perform the calculation\n",
    "        result = (self.base + self.counter) ** self.power\n",
    "\n",
    "        # The fractional part is our \"random\" number.\n",
    "        # Using the modulo operator (%) is a cleaner way to get the fractional part.\n",
    "        random_num = result % 1.0\n",
    "\n",
    "        # Increment the counter to ensure the next number is different\n",
    "        self.counter += 1\n",
    "\n",
    "        return random_num\n",
    "\n",
    "# --- Usage Example ---\n",
    "print(\"\\n--- Method 3: Irrational Number Exponentiation ---\")\n",
    "irrational_gen = IrrationalPower(seed=1)\n",
    "print(\"Generating 5 random numbers (sequence is always the same for a starting seed):\")\n",
    "for _ in range(5):\n",
    "    print(irrational_gen.random())\n",
    "\n",
    "irrational_gen_2 = IrrationalPower(seed=987)\n",
    "print(\"\\nGenerating a number with a different starting seed:\")\n",
    "print(irrational_gen_2.random())"
   ]
  }
 ],
 "metadata": {
  "kernelspec": {
   "display_name": "Python 3 (ipykernel)",
   "language": "python",
   "name": "python3"
  },
  "language_info": {
   "codemirror_mode": {
    "name": "ipython",
    "version": 3
   },
   "file_extension": ".py",
   "mimetype": "text/x-python",
   "name": "python",
   "nbconvert_exporter": "python",
   "pygments_lexer": "ipython3",
   "version": "3.12.5"
  }
 },
 "nbformat": 4,
 "nbformat_minor": 5
}
