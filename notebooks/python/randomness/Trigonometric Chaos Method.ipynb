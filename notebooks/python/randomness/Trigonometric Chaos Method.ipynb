{
 "cells": [
  {
   "cell_type": "markdown",
   "id": "a804b397-301c-493b-bed7-beaf60543a7a",
   "metadata": {},
   "source": [
    "# Trigonometric Chaos Method\n",
    "\n",
    "This method leverages the sensitive and chaotic-like nature of the sine function when its input is large. Small changes in the input to `sin()` can produce large, seemingly unrelated changes in the output.\n",
    "\n",
    "We start with a seed. We take the `sin` of that seed, multiply it by a large number to stretch the output, and then take the fractional part of the result. This new fractional number becomes our random output, and the full result becomes the seed for the next iteration, creating a feedback loop.\n",
    "\n",
    "This method can be described as a recursive sequence. Let $S_n$ be the seed at step $n$, $R_n$ be the random number generated at step $n$, and $k$ be a large constant (like 10000):\n",
    "\n",
    "$$V_n = k \\cdot \\sin(S_n)$$\n",
    "$$R_n = V_n - \\lfloor V_n \\rfloor$$\n",
    "$$S_{n+1} = V_n$$"
   ]
  },
  {
   "cell_type": "code",
   "execution_count": 1,
   "id": "82a44b3b-eba6-4f03-96ec-ac40f74ee911",
   "metadata": {},
   "outputs": [
    {
     "name": "stdout",
     "output_type": "stream",
     "text": [
      "\n",
      "--- Method 2: Trigonometric Chaos ---\n",
      "Generating 5 random numbers with a fixed seed:\n",
      "1.2246467991473533e-12\n",
      "1.2246467991473533e-08\n",
      "0.00012246467991473532\n",
      "0.22464679608622662\n",
      "0.860634477734493\n",
      "\n",
      "Generating a number with a time-based seed:\n",
      "0.4899123823770424\n"
     ]
    }
   ],
   "source": [
    "import math\n",
    "import time\n",
    "\n",
    "class TrigChaos:\n",
    "    \"\"\"\n",
    "    Generates pseudo-random numbers using a feedback loop\n",
    "    with the sine function.\n",
    "    \"\"\"\n",
    "    def __init__(self, seed=None):\n",
    "        if seed is None:\n",
    "            # Seed with something that has a fractional part\n",
    "            self.seed = time.time()\n",
    "        else:\n",
    "            self.seed = seed\n",
    "\n",
    "    def random(self):\n",
    "        \"\"\"Generates a pseudo-random float between 0.0 and 1.0\"\"\"\n",
    "        # Multiplying by a large number stretches the sine wave vertically\n",
    "        # causing small changes in seed to have large output changes.\n",
    "        large_val = math.sin(self.seed) * 10000\n",
    "\n",
    "        # The fractional part is our \"random\" number.\n",
    "        # This is equivalent to `large_val % 1` but also works for negative numbers.\n",
    "        random_num = large_val - math.floor(large_val)\n",
    "\n",
    "        # Update the seed for the next call (the feedback loop)\n",
    "        self.seed = large_val\n",
    "\n",
    "        return random_num\n",
    "\n",
    "# --- Usage Example ---\n",
    "print(\"\\n--- Method 2: Trigonometric Chaos ---\")\n",
    "chaos_gen = TrigChaos(seed=math.pi)\n",
    "print(\"Generating 5 random numbers with a fixed seed:\")\n",
    "for _ in range(5):\n",
    "    print(chaos_gen.random())\n",
    "\n",
    "chaos_gen_time = TrigChaos() # Seeded with current time\n",
    "print(\"\\nGenerating a number with a time-based seed:\")\n",
    "print(chaos_gen_time.random())"
   ]
  }
 ],
 "metadata": {
  "kernelspec": {
   "display_name": "Python 3 (ipykernel)",
   "language": "python",
   "name": "python3"
  },
  "language_info": {
   "codemirror_mode": {
    "name": "ipython",
    "version": 3
   },
   "file_extension": ".py",
   "mimetype": "text/x-python",
   "name": "python",
   "nbconvert_exporter": "python",
   "pygments_lexer": "ipython3",
   "version": "3.12.5"
  }
 },
 "nbformat": 4,
 "nbformat_minor": 5
}
