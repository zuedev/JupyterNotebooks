{
 "cells": [
  {
   "cell_type": "markdown",
   "id": "b2dece4d-93c4-444f-adeb-57b3df15d4de",
   "metadata": {},
   "source": [
    "# Linear Congruential Generator"
   ]
  },
  {
   "cell_type": "markdown",
   "id": "f441edbc-4d10-478e-b90b-f43acb153072",
   "metadata": {},
   "source": [
    "This is one of the oldest and most well-known methods for generating pseudo-random numbers. It uses a simple recursive formula to produce a sequence of numbers."
   ]
  },
  {
   "cell_type": "markdown",
   "id": "17505a91-68fe-4042-aede-3bcd5e6a8cc7",
   "metadata": {},
   "source": [
    "The generator produces the next number in the sequence based on the previous one, using the formula:\n",
    "\n",
    "```\n",
    "X_n+1=(a\n",
    "cdotX_n+c)\n",
    "pmodm\n",
    "```\n",
    "\n",
    "- X_n is the current number (or \"seed\").\n",
    "- a is the multiplier.\n",
    "- c is the increment.\n",
    "- m is the modulus.\n",
    "- X_n+1 is the next number in the sequence.\n",
    "\n",
    "The quality of the generator is highly dependent on the choice of these constants. We'll use values commonly used in numerical recipes. To get a floating-point number between 0 and 1, we simply divide the result by m."
   ]
  },
  {
   "cell_type": "code",
   "execution_count": 2,
   "id": "0a87ff5f-27db-4cb4-9b82-b009fc81978c",
   "metadata": {},
   "outputs": [
    {
     "name": "stdout",
     "output_type": "stream",
     "text": [
      "--- Method 1: Linear Congruential Generator ---\n",
      "Generating 5 random numbers with a fixed seed:\n",
      "0.02040268573909998\n",
      "0.01654784823767841\n",
      "0.5431557944975793\n",
      "0.6349040560889989\n",
      "0.9100295137614012\n",
      "\n",
      "Generating a number with a time-based seed:\n",
      "0.49381685396656394\n"
     ]
    }
   ],
   "source": [
    "import math\n",
    "import time\n",
    "\n",
    "class LCG:\n",
    "    \"\"\"\n",
    "    A Linear Congruential Generator.\n",
    "    Uses parameters from the book \"Numerical Recipes\".\n",
    "    \"\"\"\n",
    "    def __init__(self, seed=None):\n",
    "        # Constants for the generator\n",
    "        self.multiplier = 1664525\n",
    "        self.increment = 1013904223\n",
    "        self.modulus = 2**32\n",
    "\n",
    "        # If no seed is provided, use the current time\n",
    "        if seed is None:\n",
    "            # Use the fractional part of the current time for a more varied seed\n",
    "            self.seed = int(time.time() * 1000)\n",
    "        else:\n",
    "            self.seed = seed\n",
    "\n",
    "    def random(self):\n",
    "        \"\"\"Generates a pseudo-random float between 0.0 and 1.0\"\"\"\n",
    "        # Apply the LCG formula\n",
    "        self.seed = (self.multiplier * self.seed + self.increment) % self.modulus\n",
    "\n",
    "        # Return the result scaled to be between 0 and 1\n",
    "        return self.seed / self.modulus\n",
    "\n",
    "# --- Usage Example ---\n",
    "print(\"--- Method 1: Linear Congruential Generator ---\")\n",
    "lcg_gen = LCG(seed=12345)\n",
    "print(\"Generating 5 random numbers with a fixed seed:\")\n",
    "for _ in range(5):\n",
    "    print(lcg_gen.random())\n",
    "\n",
    "lcg_gen_time = LCG() # Seeded with current time\n",
    "print(\"\\nGenerating a number with a time-based seed:\")\n",
    "print(lcg_gen_time.random())"
   ]
  },
  {
   "cell_type": "code",
   "execution_count": null,
   "id": "8b190dbd-df82-4afe-9c8c-e917a8775076",
   "metadata": {},
   "outputs": [],
   "source": []
  }
 ],
 "metadata": {
  "kernelspec": {
   "display_name": "Python 3 (ipykernel)",
   "language": "python",
   "name": "python3"
  },
  "language_info": {
   "codemirror_mode": {
    "name": "ipython",
    "version": 3
   },
   "file_extension": ".py",
   "mimetype": "text/x-python",
   "name": "python",
   "nbconvert_exporter": "python",
   "pygments_lexer": "ipython3",
   "version": "3.12.5"
  }
 },
 "nbformat": 4,
 "nbformat_minor": 5
}
